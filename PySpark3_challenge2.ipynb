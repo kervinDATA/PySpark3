{
 "cells": [
  {
   "cell_type": "markdown",
   "id": "b8e0e777-31f0-4320-b736-f4c56f1112ac",
   "metadata": {},
   "source": [
    "## Challenge 2: Video Game Sales Dataset Analysis"
   ]
  },
  {
   "cell_type": "code",
   "execution_count": 9,
   "id": "2cdf35ad-b394-45fa-9004-9c6ceff7f778",
   "metadata": {},
   "outputs": [
    {
     "name": "stdout",
     "output_type": "stream",
     "text": [
      "+----+--------------------+--------+-----------+--------+----------------+----------------+------------+----------+-------------+------------+--------+---------+--------+-----------+----+\n",
      "|Rank|                Name|   Genre|ESRB_Rating|Platform|       Publisher|       Developer|Critic_Score|User_Score|Total_Shipped|Global_Sales|NA_Sales|PAL_Sales|JP_Sales|Other_Sales|Year|\n",
      "+----+--------------------+--------+-----------+--------+----------------+----------------+------------+----------+-------------+------------+--------+---------+--------+-----------+----+\n",
      "|   1|          Wii Sports|  Sports|          E|     Wii|        Nintendo|    Nintendo EAD|         7.7|      NULL|        82.86|        NULL|    NULL|     NULL|    NULL|       NULL|2006|\n",
      "|   2|   Super Mario Bros.|Platform|       NULL|     NES|        Nintendo|    Nintendo EAD|        10.0|      NULL|        40.24|        NULL|    NULL|     NULL|    NULL|       NULL|1985|\n",
      "|   3|      Mario Kart Wii|  Racing|          E|     Wii|        Nintendo|    Nintendo EAD|         8.2|       9.1|        37.14|        NULL|    NULL|     NULL|    NULL|       NULL|2008|\n",
      "|   4|PlayerUnknown's B...| Shooter|       NULL|      PC|PUBG Corporation|PUBG Corporation|        NULL|      NULL|         36.6|        NULL|    NULL|     NULL|    NULL|       NULL|2017|\n",
      "|   5|   Wii Sports Resort|  Sports|          E|     Wii|        Nintendo|    Nintendo EAD|         8.0|       8.8|        33.09|        NULL|    NULL|     NULL|    NULL|       NULL|2009|\n",
      "+----+--------------------+--------+-----------+--------+----------------+----------------+------------+----------+-------------+------------+--------+---------+--------+-----------+----+\n",
      "only showing top 5 rows\n",
      "\n"
     ]
    }
   ],
   "source": [
    "from pyspark.sql import SparkSession\n",
    "from pyspark.sql import functions as F\n",
    "\n",
    "spark = SparkSession.builder.appName(\"VideoGame\").getOrCreate()\n",
    "\n",
    "file_path = \"/data/vgsales-12-4-2019-short.csv\"\n",
    "df = spark.read.option(\"sep\", \",\").option(\"header\", \"True\").option(\"inferSchema\", \"true\").csv(file_path)\n",
    "\n",
    "# Convertir la colonne 'Year' en type entier\n",
    "df = df.withColumn(\"Year\", F.col(\"Year\").cast(\"int\"))\n",
    "\n",
    "df.show(5)"
   ]
  },
  {
   "cell_type": "markdown",
   "id": "755c0d06-1b38-455e-83ed-714eab795ac3",
   "metadata": {},
   "source": [
    "### Basic Information Extraction:"
   ]
  },
  {
   "cell_type": "markdown",
   "id": "dca10ab9-d595-4e36-b62e-1c3a2a4b89f3",
   "metadata": {},
   "source": [
    "##### Determine the number of games published by each publisher.\n"
   ]
  },
  {
   "cell_type": "code",
   "execution_count": 13,
   "id": "efab71af-b264-4784-9223-2def2dec2192",
   "metadata": {},
   "outputs": [
    {
     "name": "stdout",
     "output_type": "stream",
     "text": [
      "+--------------------+---------------+\n",
      "|           Publisher|Number_of_games|\n",
      "+--------------------+---------------+\n",
      "|             Unknown|           4891|\n",
      "|                Sega|           2085|\n",
      "|             Ubisoft|           1519|\n",
      "|          Activision|           1519|\n",
      "|     Electronic Arts|           1498|\n",
      "|              Konami|           1495|\n",
      "|Sony Computer Ent...|           1354|\n",
      "|            Nintendo|           1351|\n",
      "|           Microsoft|           1267|\n",
      "|                 THQ|           1065|\n",
      "|              Capcom|            964|\n",
      "|               Atari|            828|\n",
      "|           EA Sports|            757|\n",
      "|         Square Enix|            576|\n",
      "|              Bandai|            566|\n",
      "|        Namco Bandai|            554|\n",
      "|Acclaim Entertain...|            511|\n",
      "|         Hudson Soft|            460|\n",
      "|  Namco Bandai Games|            452|\n",
      "|               Namco|            441|\n",
      "+--------------------+---------------+\n",
      "only showing top 20 rows\n",
      "\n"
     ]
    }
   ],
   "source": [
    "count_games_by_publiser = df.groupBy(\"Publisher\") \\\n",
    "    .agg(F.count(\"Name\").alias(\"Number_of_games\")) \\\n",
    "    .sort(F.desc(\"Number_of_games\"))\n",
    "\n",
    "count_games_by_publiser.show()"
   ]
  },
  {
   "cell_type": "code",
   "execution_count": null,
   "id": "a9135076-c641-4d2a-8e80-13bc31d6d2f0",
   "metadata": {},
   "outputs": [],
   "source": []
  },
  {
   "cell_type": "markdown",
   "id": "d8904e45-ba08-463a-a66f-cbe7426981cf",
   "metadata": {},
   "source": [
    "##### Count the number of games available for each platform."
   ]
  },
  {
   "cell_type": "code",
   "execution_count": 15,
   "id": "00984513-b856-490e-bab5-9f4e3c786d08",
   "metadata": {},
   "outputs": [
    {
     "name": "stdout",
     "output_type": "stream",
     "text": [
      "+--------+---------------+\n",
      "|Platform|Number_of_games|\n",
      "+--------+---------------+\n",
      "|      PC|          10978|\n",
      "|     PS2|           3564|\n",
      "|      DS|           3292|\n",
      "|      PS|           2703|\n",
      "|     XBL|           2115|\n",
      "|     PSN|           2004|\n",
      "|     PS3|           1870|\n",
      "|     PSP|           1804|\n",
      "|     PS4|           1755|\n",
      "|    X360|           1701|\n",
      "|     Wii|           1674|\n",
      "|     GBA|           1658|\n",
      "|      GB|           1601|\n",
      "|    SNES|           1209|\n",
      "|     3DS|           1192|\n",
      "|      NS|           1186|\n",
      "|     NES|           1105|\n",
      "|    XOne|           1082|\n",
      "|     PSV|           1046|\n",
      "|     And|           1007|\n",
      "+--------+---------------+\n",
      "only showing top 20 rows\n",
      "\n"
     ]
    }
   ],
   "source": [
    "count_games_by_platform = df.groupBy(\"Platform\") \\\n",
    "    .agg(F.count(\"Name\").alias(\"Number_of_games\")) \\\n",
    "    .sort(F.desc(\"Number_of_games\"))\n",
    "\n",
    "count_games_by_platform.show()"
   ]
  },
  {
   "cell_type": "code",
   "execution_count": null,
   "id": "3a811d0c-488d-44f0-91e8-0234d1f4325f",
   "metadata": {},
   "outputs": [],
   "source": []
  },
  {
   "cell_type": "markdown",
   "id": "ff8aa4e1-b746-4e82-8152-e9a4a215d9f5",
   "metadata": {},
   "source": [
    "### Data Improvement:"
   ]
  },
  {
   "cell_type": "markdown",
   "id": "b3dd83dc-c428-4693-bb4f-1f23d7513024",
   "metadata": {},
   "source": [
    "##### Create a new column combining 'Total_Shipped' and 'Global_Sales'. Use 'Total_Shipped' when available; otherwise, use 'Global_Sales'."
   ]
  },
  {
   "cell_type": "code",
   "execution_count": 17,
   "id": "c3506cd9-5d59-462a-9d63-975a335aede4",
   "metadata": {},
   "outputs": [
    {
     "name": "stdout",
     "output_type": "stream",
     "text": [
      "+-------------+------------+--------------+\n",
      "|Total_Shipped|Global_Sales|Combined_Sales|\n",
      "+-------------+------------+--------------+\n",
      "|        82.86|        NULL|         82.86|\n",
      "|        40.24|        NULL|         40.24|\n",
      "|        37.14|        NULL|         37.14|\n",
      "|         36.6|        NULL|          36.6|\n",
      "|        33.09|        NULL|         33.09|\n",
      "|        31.38|        NULL|         31.38|\n",
      "|         30.8|        NULL|          30.8|\n",
      "|        30.26|        NULL|         30.26|\n",
      "|        30.22|        NULL|         30.22|\n",
      "|        30.01|        NULL|         30.01|\n",
      "|        28.31|        NULL|         28.31|\n",
      "|        28.02|        NULL|         28.02|\n",
      "|         24.0|        NULL|          24.0|\n",
      "|        23.96|        NULL|         23.96|\n",
      "|         23.6|        NULL|          23.6|\n",
      "|         23.1|        NULL|          23.1|\n",
      "|        22.67|        NULL|         22.67|\n",
      "|        21.13|        NULL|         21.13|\n",
      "|        20.61|        NULL|         20.61|\n",
      "|         NULL|       20.32|         20.32|\n",
      "+-------------+------------+--------------+\n",
      "only showing top 20 rows\n",
      "\n"
     ]
    }
   ],
   "source": [
    "# Créer une nouvelle colonne combinant 'Total_Shipped' et 'Global_Sales'\n",
    "df = df.withColumn(\n",
    "    \"Combined_Sales\",\n",
    "    F.when(F.col(\"Total_Shipped\").isNotNull(), F.col(\"Total_Shipped\"))\n",
    "    .otherwise(F.col(\"Global_Sales\"))\n",
    ")\n",
    "\n",
    "df.select(\"Total_Shipped\", \"Global_Sales\", \"Combined_Sales\").show(20)"
   ]
  },
  {
   "cell_type": "code",
   "execution_count": null,
   "id": "07cac4c4-51fc-43e0-878e-0cafe3d1040d",
   "metadata": {},
   "outputs": [],
   "source": []
  },
  {
   "cell_type": "markdown",
   "id": "167f7076-3b5b-424d-95bc-acb9dade60e0",
   "metadata": {},
   "source": [
    "##### Remove the now redundant columns."
   ]
  },
  {
   "cell_type": "code",
   "execution_count": 18,
   "id": "483d9749-a6e6-41e0-a0ba-9b66a0f8a3fe",
   "metadata": {},
   "outputs": [
    {
     "name": "stdout",
     "output_type": "stream",
     "text": [
      "+----+--------------------+--------+-----------+--------+----------------+----------------+------------+----------+--------+---------+--------+-----------+----+--------------+\n",
      "|Rank|                Name|   Genre|ESRB_Rating|Platform|       Publisher|       Developer|Critic_Score|User_Score|NA_Sales|PAL_Sales|JP_Sales|Other_Sales|Year|Combined_Sales|\n",
      "+----+--------------------+--------+-----------+--------+----------------+----------------+------------+----------+--------+---------+--------+-----------+----+--------------+\n",
      "|   1|          Wii Sports|  Sports|          E|     Wii|        Nintendo|    Nintendo EAD|         7.7|      NULL|    NULL|     NULL|    NULL|       NULL|2006|         82.86|\n",
      "|   2|   Super Mario Bros.|Platform|       NULL|     NES|        Nintendo|    Nintendo EAD|        10.0|      NULL|    NULL|     NULL|    NULL|       NULL|1985|         40.24|\n",
      "|   3|      Mario Kart Wii|  Racing|          E|     Wii|        Nintendo|    Nintendo EAD|         8.2|       9.1|    NULL|     NULL|    NULL|       NULL|2008|         37.14|\n",
      "|   4|PlayerUnknown's B...| Shooter|       NULL|      PC|PUBG Corporation|PUBG Corporation|        NULL|      NULL|    NULL|     NULL|    NULL|       NULL|2017|          36.6|\n",
      "|   5|   Wii Sports Resort|  Sports|          E|     Wii|        Nintendo|    Nintendo EAD|         8.0|       8.8|    NULL|     NULL|    NULL|       NULL|2009|         33.09|\n",
      "+----+--------------------+--------+-----------+--------+----------------+----------------+------------+----------+--------+---------+--------+-----------+----+--------------+\n",
      "only showing top 5 rows\n",
      "\n"
     ]
    }
   ],
   "source": [
    "# Suppressiion des colonnes 'Total_Shipped' et 'Global_Sales'\n",
    "df = df.drop(\"Total_Shipped\", \"Global_Sales\")\n",
    "\n",
    "df.show(5)"
   ]
  },
  {
   "cell_type": "code",
   "execution_count": null,
   "id": "7ce92da0-8d5e-4456-aa28-4d0d66d1a1bd",
   "metadata": {},
   "outputs": [],
   "source": []
  },
  {
   "cell_type": "code",
   "execution_count": null,
   "id": "9f998a29-34a5-4d1a-b240-93a03ca8dad4",
   "metadata": {},
   "outputs": [],
   "source": []
  },
  {
   "cell_type": "markdown",
   "id": "8df4cad2-85e5-4137-8576-3b35115fb718",
   "metadata": {},
   "source": [
    "### Critic Score Analysis:"
   ]
  },
  {
   "cell_type": "markdown",
   "id": "615daf0b-5dea-4cf5-890e-2f486caccf43",
   "metadata": {},
   "source": [
    "##### Analyze the average critic score by ESRB Rating. Exclude rows with missing ESRB Rating or Critic Score.      AND Present the data with scores rounded to two decimal places and sorted by the average score."
   ]
  },
  {
   "cell_type": "code",
   "execution_count": 19,
   "id": "113dee67-499e-47be-9600-8d1ec01c65bc",
   "metadata": {},
   "outputs": [],
   "source": [
    "# Filtrer pour garder uniquement les valeurs non null pour ESRB_Rating et Critic_Score\n",
    "filtered_df = df.filter((F.col(\"ESRB_Rating\").isNotNull()) & (F.col(\"Critic_Score\").isNotNull()))"
   ]
  },
  {
   "cell_type": "code",
   "execution_count": 20,
   "id": "9e0083a7-45a2-44b5-ae07-9f3566dc5d49",
   "metadata": {
    "scrolled": true
   },
   "outputs": [
    {
     "name": "stdout",
     "output_type": "stream",
     "text": [
      "+-----------+--------------------+\n",
      "|ESRB_Rating|average Critic Score|\n",
      "+-----------+--------------------+\n",
      "|         EC|                 8.5|\n",
      "|         RP|                8.02|\n",
      "|          M|                7.47|\n",
      "|          T|                7.24|\n",
      "|          E|                7.11|\n",
      "|        E10|                7.09|\n",
      "+-----------+--------------------+\n",
      "\n"
     ]
    }
   ],
   "source": [
    "avg_CriticScore_by_ESRB = filtered_df.groupBy(\"ESRB_Rating\") \\\n",
    "    .agg(F.round(F.avg(\"Critic_Score\"),2).alias(\"average Critic Score\")) \\\n",
    "    .sort(F.desc(\"average Critic Score\"))\n",
    "\n",
    "avg_CriticScore_by_ESRB.show()"
   ]
  },
  {
   "cell_type": "code",
   "execution_count": null,
   "id": "543a1272-2cf2-4d77-9a7b-2d2d95faad2e",
   "metadata": {},
   "outputs": [],
   "source": []
  },
  {
   "cell_type": "code",
   "execution_count": null,
   "id": "6f7c2db3-be40-4900-a00c-41ed8a15a9d8",
   "metadata": {},
   "outputs": [],
   "source": []
  },
  {
   "cell_type": "code",
   "execution_count": null,
   "id": "27e1d0f2-c242-494f-94db-841989e3318b",
   "metadata": {},
   "outputs": [],
   "source": [
    "# Arrêt de la SparkSession\n",
    "spark.stop()"
   ]
  },
  {
   "cell_type": "code",
   "execution_count": null,
   "id": "85d9c8aa-f8f3-4002-ac7d-666a32b5ff86",
   "metadata": {},
   "outputs": [],
   "source": []
  }
 ],
 "metadata": {
  "kernelspec": {
   "display_name": "Python 3 (ipykernel)",
   "language": "python",
   "name": "python3"
  },
  "language_info": {
   "codemirror_mode": {
    "name": "ipython",
    "version": 3
   },
   "file_extension": ".py",
   "mimetype": "text/x-python",
   "name": "python",
   "nbconvert_exporter": "python",
   "pygments_lexer": "ipython3",
   "version": "3.11.6"
  }
 },
 "nbformat": 4,
 "nbformat_minor": 5
}
