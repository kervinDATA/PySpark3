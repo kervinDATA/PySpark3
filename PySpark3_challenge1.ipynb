{
 "cells": [
  {
   "cell_type": "markdown",
   "id": "5a3a8976-38bc-4fed-8a73-b693fb286beb",
   "metadata": {},
   "source": [
    "## Challenge 1: Salary Analysis of Data Specialists"
   ]
  },
  {
   "cell_type": "code",
   "execution_count": null,
   "id": "2cdf35ad-b394-45fa-9004-9c6ceff7f778",
   "metadata": {},
   "outputs": [],
   "source": []
  },
  {
   "cell_type": "markdown",
   "id": "b526c4d6-85c0-4c71-bc14-8bee0864cc00",
   "metadata": {},
   "source": [
    "### Load the dataset and create a DataFrame using PySpark."
   ]
  },
  {
   "cell_type": "code",
   "execution_count": 4,
   "id": "c7941287-71fd-42de-a859-3e6309daed4e",
   "metadata": {},
   "outputs": [
    {
     "name": "stdout",
     "output_type": "stream",
     "text": [
      "+-----+--------------------+--------------+-----------------+---------+---------+\n",
      "|index|        Company Name|     Job Title|Salaries Reported| Location|   Salary|\n",
      "+-----+--------------------+--------------+-----------------+---------+---------+\n",
      "|    0|            Mu Sigma|Data Scientist|              105|Bangalore| 648573.0|\n",
      "|    1|                 IBM|Data Scientist|               95|Bangalore|1191950.0|\n",
      "|    2|Tata Consultancy ...|Data Scientist|               66|Bangalore| 836874.0|\n",
      "|    3|    Impact Analytics|Data Scientist|               40|Bangalore| 669578.0|\n",
      "|    4|           Accenture|Data Scientist|               32|Bangalore| 944110.0|\n",
      "+-----+--------------------+--------------+-----------------+---------+---------+\n",
      "only showing top 5 rows\n",
      "\n"
     ]
    }
   ],
   "source": [
    "from pyspark.sql import SparkSession\n",
    "from pyspark.sql import functions as F\n",
    "\n",
    "spark = SparkSession.builder.appName(\"SalaryDataset\").getOrCreate()\n",
    "\n",
    "file_path = \"/data/Partially Cleaned Salary Dataset.csv\"\n",
    "df = spark.read.option(\"sep\", \",\").option(\"inferSchema\", \"true\").option(\"header\", \"True\").csv(file_path)\n",
    "\n",
    "df = df.withColumnRenamed(\"_c0\", \"index\")\n",
    "\n",
    "df.show(5)"
   ]
  },
  {
   "cell_type": "code",
   "execution_count": null,
   "id": "a9135076-c641-4d2a-8e80-13bc31d6d2f0",
   "metadata": {},
   "outputs": [],
   "source": []
  },
  {
   "cell_type": "markdown",
   "id": "9daf9088-0d56-4c03-84da-00894b1fb220",
   "metadata": {},
   "source": [
    "### Analyze and sort the locations by their average salary. Remember to round the salaries for better readability."
   ]
  },
  {
   "cell_type": "code",
   "execution_count": 5,
   "id": "00984513-b856-490e-bab5-9f4e3c786d08",
   "metadata": {},
   "outputs": [
    {
     "name": "stdout",
     "output_type": "stream",
     "text": [
      "+---------+--------------+\n",
      "| Location|average_salary|\n",
      "+---------+--------------+\n",
      "|     Pune|     1230932.1|\n",
      "|Hyderabad|    1200312.26|\n",
      "|Bangalore|    1184622.13|\n",
      "|   Mumbai|    1018556.45|\n",
      "|New Delhi|     838629.64|\n",
      "+---------+--------------+\n",
      "\n"
     ]
    }
   ],
   "source": [
    "avg_salary_by_location = df.groupBy(\"Location\") \\\n",
    "    .agg(F.round(F.avg(\"Salary\"),2).alias(\"average_salary\")) \\\n",
    "    .sort(F.desc(\"average_salary\"))\n",
    "\n",
    "avg_salary_by_location.show()"
   ]
  },
  {
   "cell_type": "code",
   "execution_count": null,
   "id": "3a811d0c-488d-44f0-91e8-0234d1f4325f",
   "metadata": {},
   "outputs": [],
   "source": []
  },
  {
   "cell_type": "markdown",
   "id": "90271ce5-5014-46a5-a313-cf82daf98182",
   "metadata": {},
   "source": [
    "### Calculate and sort the average salary for each job title."
   ]
  },
  {
   "cell_type": "code",
   "execution_count": 6,
   "id": "070340ca-7b82-46d5-9469-81999cb710ca",
   "metadata": {},
   "outputs": [
    {
     "name": "stdout",
     "output_type": "stream",
     "text": [
      "+--------------------+----------+\n",
      "|           Job Title|avg_salary|\n",
      "+--------------------+----------+\n",
      "|Data Science Manager| 4619021.0|\n",
      "|   Data Science Lead| 4068310.0|\n",
      "|Data Science Cons...| 2671464.0|\n",
      "| Lead Data Scientist| 1852189.0|\n",
      "|Senior Data Scien...|1766129.54|\n",
      "|Software Engineer...| 1566780.0|\n",
      "|Senior Machine Le...| 1473436.0|\n",
      "|      Data Scientist|1411330.01|\n",
      "|Machine Learning ...| 1397347.0|\n",
      "|       Data Engineer|1309051.36|\n",
      "|Data Science Asso...| 1203913.0|\n",
      "|Machine Learning ...| 797188.36|\n",
      "|Machine Learning ...|  706401.0|\n",
      "|        Data Analyst| 616469.87|\n",
      "|Data Scientist - ...|  610512.0|\n",
      "|Junior Data Scien...| 596323.11|\n",
      "|Machine Learning ...|  581119.0|\n",
      "|Associate Machine...|  464372.0|\n",
      "|Machine Learning ...|  383213.0|\n",
      "|        Data Science| 364905.33|\n",
      "+--------------------+----------+\n",
      "only showing top 20 rows\n",
      "\n"
     ]
    }
   ],
   "source": [
    "avg_salary_by_job = df.groupBy(\"Job Title\") \\\n",
    "    .agg(F.round(F.avg(\"Salary\"),2).alias(\"avg_salary\")) \\\n",
    "    .sort(F.desc(\"avg_salary\"))\n",
    "\n",
    "avg_salary_by_job.show()"
   ]
  },
  {
   "cell_type": "code",
   "execution_count": null,
   "id": "6214df70-d31e-43a1-84ae-d688a1246577",
   "metadata": {},
   "outputs": [],
   "source": []
  },
  {
   "cell_type": "markdown",
   "id": "6fd70b11-1fb2-4d74-857b-55c8e11ee2b1",
   "metadata": {},
   "source": [
    "### Finally, find the average salary for each location. Display this information in a clear and concise format."
   ]
  },
  {
   "cell_type": "code",
   "execution_count": 8,
   "id": "17a81260-799f-4b91-9d22-58c7d884b242",
   "metadata": {},
   "outputs": [
    {
     "name": "stdout",
     "output_type": "stream",
     "text": [
      "Moyenne des salaires pour chaque emplacement :\n",
      "+---------+--------------+\n",
      "|Location |average_salary|\n",
      "+---------+--------------+\n",
      "|Pune     |1230932.1     |\n",
      "|Hyderabad|1200312.26    |\n",
      "|Bangalore|1184622.13    |\n",
      "|Mumbai   |1018556.45    |\n",
      "|New Delhi|838629.64     |\n",
      "+---------+--------------+\n",
      "\n"
     ]
    }
   ],
   "source": [
    "print(\"Moyenne des salaires pour chaque emplacement :\")\n",
    "avg_salary_by_location.show(truncate=False)"
   ]
  },
  {
   "cell_type": "code",
   "execution_count": null,
   "id": "7753f4ef-9c5d-4d5e-843f-6faa8bb56367",
   "metadata": {},
   "outputs": [],
   "source": [
    "print(\"Moyenne des salaires pour chaque emplacement :\")\n",
    "avg_salary_by_location.show(truncate=False)"
   ]
  },
  {
   "cell_type": "code",
   "execution_count": 9,
   "id": "f2fad2a3-eed2-4932-acb1-31562b166779",
   "metadata": {},
   "outputs": [
    {
     "name": "stdout",
     "output_type": "stream",
     "text": [
      "Moyenne des salaires pour chaque emplacement :\n",
      "{'Location': 'Pune', 'average_salary': 1230932.1}\n",
      "{'Location': 'Hyderabad', 'average_salary': 1200312.26}\n",
      "{'Location': 'Bangalore', 'average_salary': 1184622.13}\n",
      "{'Location': 'Mumbai', 'average_salary': 1018556.45}\n",
      "{'Location': 'New Delhi', 'average_salary': 838629.64}\n"
     ]
    }
   ],
   "source": [
    "# Convertir les résultats en dictionnaire et les afficher\n",
    "print(\"Moyenne des salaires pour chaque emplacement :\")\n",
    "result_dict = [row.asDict() for row in avg_salary_by_location.collect()]\n",
    "for item in result_dict:\n",
    "    print(item)"
   ]
  },
  {
   "cell_type": "code",
   "execution_count": null,
   "id": "51e7e3e8-c259-4c68-aabd-da85a8c678d5",
   "metadata": {},
   "outputs": [],
   "source": []
  },
  {
   "cell_type": "code",
   "execution_count": null,
   "id": "9a251989-fc49-4feb-83de-0754b3644dcc",
   "metadata": {},
   "outputs": [],
   "source": []
  },
  {
   "cell_type": "code",
   "execution_count": null,
   "id": "27e1d0f2-c242-494f-94db-841989e3318b",
   "metadata": {},
   "outputs": [],
   "source": []
  },
  {
   "cell_type": "code",
   "execution_count": 10,
   "id": "85d9c8aa-f8f3-4002-ac7d-666a32b5ff86",
   "metadata": {},
   "outputs": [],
   "source": [
    "# Arrêt de la SparkSession\n",
    "spark.stop()"
   ]
  },
  {
   "cell_type": "code",
   "execution_count": null,
   "id": "3526bc1f-e841-4807-b92e-066e9a147ea6",
   "metadata": {},
   "outputs": [],
   "source": []
  }
 ],
 "metadata": {
  "kernelspec": {
   "display_name": "Python 3 (ipykernel)",
   "language": "python",
   "name": "python3"
  },
  "language_info": {
   "codemirror_mode": {
    "name": "ipython",
    "version": 3
   },
   "file_extension": ".py",
   "mimetype": "text/x-python",
   "name": "python",
   "nbconvert_exporter": "python",
   "pygments_lexer": "ipython3",
   "version": "3.11.6"
  }
 },
 "nbformat": 4,
 "nbformat_minor": 5
}
